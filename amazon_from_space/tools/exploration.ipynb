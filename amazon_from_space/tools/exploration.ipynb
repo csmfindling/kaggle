{
 "cells": [
  {
   "cell_type": "code",
   "execution_count": 1,
   "metadata": {
    "collapsed": true
   },
   "outputs": [],
   "source": [
    "import numpy as np\n",
    "import csv\n",
    "path_to_data='../../data/'"
   ]
  },
  {
   "cell_type": "code",
   "execution_count": 2,
   "metadata": {
    "collapsed": true
   },
   "outputs": [],
   "source": [
    "CLASSES = {}\n",
    "nb_training_examples = 0\n",
    "with open(path_to_data+'train_v2.csv', 'rb') as csvfile:\n",
    "    spamreader = csv.reader(csvfile)\n",
    "    spamreader.next()\n",
    "    for row in spamreader:\n",
    "        #if row[0].startswith('train_'):\n",
    "            nb_training_examples += 1\n",
    "            labels_example        = row[1].split(' ')\n",
    "            for lab in labels_example:\n",
    "                if lab not in CLASSES.keys():\n",
    "                    if len(CLASSES.keys()) > 0:\n",
    "                        CLASSES[lab] = max(CLASSES.values()) + 1\n",
    "                    else:\n",
    "                        CLASSES[lab] = 0\n",
    "\n",
    "nb_labels = len(CLASSES.keys())"
   ]
  },
  {
   "cell_type": "code",
   "execution_count": 3,
   "metadata": {
    "collapsed": true
   },
   "outputs": [],
   "source": [
    "counts = np.zeros(nb_labels)\n",
    "with open(path_to_data + 'train_v2.csv', 'rb') as csvfile:\n",
    "    spamreader = csv.reader(csvfile)\n",
    "    spamreader.next()\n",
    "    for row in spamreader:   \n",
    "        #if row[0].startswith('train_'):\n",
    "            labels_example        = row[1].split(' ')\n",
    "            for lab in labels_example:\n",
    "                counts[CLASSES[lab]] += 1\n",
    "counts /= nb_training_examples"
   ]
  },
  {
   "cell_type": "code",
   "execution_count": 4,
   "metadata": {
    "collapsed": false
   },
   "outputs": [
    {
     "name": "stdout",
     "output_type": "stream",
     "text": [
      "frequencies present:\n"
     ]
    },
    {
     "data": {
      "text/plain": [
       "array([ 0.06657773,  0.9348057 ,  0.30480002,  0.69673164,  0.17940167,\n",
       "        0.09046666,  0.19951086,  0.11232985,  0.00516317,  0.05756071,\n",
       "        0.17912992,  0.00247042,  0.02122088,  0.00837471,  0.00820178,\n",
       "        0.00839942,  0.00249512])"
      ]
     },
     "execution_count": 4,
     "metadata": {},
     "output_type": "execute_result"
    }
   ],
   "source": [
    "print('frequencies present:')\n",
    "counts"
   ]
  },
  {
   "cell_type": "code",
   "execution_count": 5,
   "metadata": {
    "collapsed": false
   },
   "outputs": [],
   "source": [
    "counts1 = np.zeros(nb_labels)\n",
    "nb_testing_examples = 0.\n",
    "with open('../submits/submit_simplevgg_lr4.csv', 'rb') as csvfile:\n",
    "    spamreader = csv.reader(csvfile)\n",
    "    spamreader.next()\n",
    "    for row in spamreader:   \n",
    "        #if row[0].startswith('file_'):\n",
    "            nb_testing_examples += 1\n",
    "            labels_example        = row[1][1:].split(' ')\n",
    "            for lab in labels_example:\n",
    "                counts1[CLASSES[lab]] += 1\n",
    "counts1 /= nb_testing_examples"
   ]
  },
  {
   "cell_type": "code",
   "execution_count": 6,
   "metadata": {
    "collapsed": false
   },
   "outputs": [
    {
     "name": "stdout",
     "output_type": "stream",
     "text": [
      "frequencies predicted:\n"
     ]
    },
    {
     "data": {
      "text/plain": [
       "array([ 0.08687552,  1.        ,  0.42842902,  0.75177722,  0.2843392 ,\n",
       "        0.10323414,  0.2659378 ,  0.21650243,  0.        ,  0.08058375,\n",
       "        0.20012747,  0.        ,  0.        ,  0.        ,  0.        ,\n",
       "        0.        ,  0.        ])"
      ]
     },
     "execution_count": 6,
     "metadata": {},
     "output_type": "execute_result"
    }
   ],
   "source": [
    "print('frequencies predicted:')\n",
    "counts1"
   ]
  },
  {
   "cell_type": "code",
   "execution_count": null,
   "metadata": {
    "collapsed": true
   },
   "outputs": [],
   "source": []
  },
  {
   "cell_type": "code",
   "execution_count": null,
   "metadata": {
    "collapsed": true
   },
   "outputs": [],
   "source": []
  }
 ],
 "metadata": {
  "anaconda-cloud": {},
  "kernelspec": {
   "display_name": "Python [default]",
   "language": "python",
   "name": "python2"
  },
  "language_info": {
   "codemirror_mode": {
    "name": "ipython",
    "version": 2
   },
   "file_extension": ".py",
   "mimetype": "text/x-python",
   "name": "python",
   "nbconvert_exporter": "python",
   "pygments_lexer": "ipython2",
   "version": "2.7.12"
  }
 },
 "nbformat": 4,
 "nbformat_minor": 1
}
