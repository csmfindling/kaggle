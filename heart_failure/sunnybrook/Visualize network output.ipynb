{
 "cells": [
  {
   "cell_type": "code",
   "execution_count": 14,
   "metadata": {
    "collapsed": false
   },
   "outputs": [],
   "source": [
    "from blocks.extensions.saveload import load\n",
    "import numpy\n",
    "import theano\n",
    "from theano import tensor\n",
    "from fuel.streams import ServerDataStream\n",
    "import matplotlib.pyplot as plt\n",
    "from blocks.graph import ComputationGraph\n",
    "\n",
    "%matplotlib inline"
   ]
  },
  {
   "cell_type": "code",
   "execution_count": 9,
   "metadata": {
    "collapsed": false
   },
   "outputs": [
    {
     "name": "stderr",
     "output_type": "stream",
     "text": [
      "/home/ubuntu/mnt/Theano/theano/tensor/signal/downsample.py:5: UserWarning: downsample module has been moved to the pool module.\n",
      "  warnings.warn(\"downsample module has been moved to the pool module.\")\n"
     ]
    }
   ],
   "source": [
    "from models.bdrx3DCNN import get_model"
   ]
  },
  {
   "cell_type": "code",
   "execution_count": 11,
   "metadata": {
    "collapsed": false
   },
   "outputs": [],
   "source": [
    "input_var  = tensor.tensor4('image_features')\n",
    "target_var = tensor.tensor4('image_targets')\n",
    "multiply_var = tensor.matrix('multiplier')\n",
    "multiply_var = tensor.addbroadcast(multiply_var, 1)"
   ]
  },
  {
   "cell_type": "code",
   "execution_count": 12,
   "metadata": {
    "collapsed": false
   },
   "outputs": [],
   "source": [
    "test_prediction, prediction, loss, params = get_model(input_var, target_var, multiply_var)"
   ]
  },
  {
   "cell_type": "code",
   "execution_count": 22,
   "metadata": {
    "collapsed": false
   },
   "outputs": [],
   "source": [
    "cg = ComputationGraph(prediction)\n",
    "b = cg.shared_variables[4]"
   ]
  },
  {
   "cell_type": "code",
   "execution_count": 23,
   "metadata": {
    "collapsed": false
   },
   "outputs": [
    {
     "data": {
      "text/plain": [
       "array([[[[[ 0.0189434 , -0.01971421, -0.06787636],\n",
       "          [-0.06234615,  0.04340324,  0.07700036],\n",
       "          [ 0.0719879 , -0.03261419, -0.01059904]],\n",
       "\n",
       "         [[ 0.03542847, -0.02545363,  0.02952683],\n",
       "          [ 0.01486168, -0.0211506 , -0.07212377],\n",
       "          [-0.06014736, -0.03951227,  0.00165055]],\n",
       "\n",
       "         [[-0.00806009,  0.00597596, -0.01181784],\n",
       "          [-0.01019616, -0.00098562, -0.06350189],\n",
       "          [ 0.06406447,  0.05096266,  0.00927466]]],\n",
       "\n",
       "\n",
       "        [[[ 0.02168172,  0.05311858,  0.02930204],\n",
       "          [-0.07238609, -0.0479266 , -0.0571648 ],\n",
       "          [-0.05819773, -0.01606301,  0.03998954]],\n",
       "\n",
       "         [[-0.00250011, -0.07304809,  0.06299537],\n",
       "          [-0.06172649,  0.00137069,  0.03572957],\n",
       "          [-0.01611299,  0.07618224,  0.02211545]],\n",
       "\n",
       "         [[-0.05089751, -0.07680383,  0.02058004],\n",
       "          [-0.07200374,  0.04652566,  0.06172781],\n",
       "          [ 0.06006083,  0.04608412, -0.03091631]]],\n",
       "\n",
       "\n",
       "        [[[ 0.0814469 , -0.05182613, -0.00336937],\n",
       "          [-0.0746799 ,  0.01402354,  0.01492208],\n",
       "          [ 0.04154082, -0.05254101,  0.06848349]],\n",
       "\n",
       "         [[-0.0210627 , -0.05924835, -0.07761046],\n",
       "          [-0.01511037, -0.07649609,  0.04896839],\n",
       "          [-0.00318246,  0.06111844, -0.01660803]],\n",
       "\n",
       "         [[ 0.06315431,  0.06188976,  0.05594596],\n",
       "          [ 0.02716613, -0.00308108,  0.05441442],\n",
       "          [-0.01305828, -0.05580596, -0.07262126]]],\n",
       "\n",
       "\n",
       "        ..., \n",
       "        [[[-0.04701292,  0.00952291, -0.06238011],\n",
       "          [-0.06031663,  0.0610884 ,  0.04747364],\n",
       "          [-0.07831043, -0.00449375,  0.04446035]],\n",
       "\n",
       "         [[-0.06253847,  0.08130801, -0.06996018],\n",
       "          [ 0.07426973,  0.08109683, -0.06093032],\n",
       "          [ 0.03647358,  0.0090093 ,  0.01108429]],\n",
       "\n",
       "         [[-0.07987326, -0.0057248 ,  0.07959715],\n",
       "          [-0.02714274, -0.08184341, -0.05558506],\n",
       "          [-0.05284039, -0.04552678,  0.07434571]]],\n",
       "\n",
       "\n",
       "        [[[ 0.07381505,  0.00152306, -0.03060617],\n",
       "          [-0.03796098,  0.03203141, -0.02012498],\n",
       "          [-0.06450348, -0.01770452,  0.00383341]],\n",
       "\n",
       "         [[-0.06089402, -0.0194706 ,  0.01874498],\n",
       "          [-0.06226287, -0.05386152, -0.03474443],\n",
       "          [-0.07992706,  0.02264807, -0.08205129]],\n",
       "\n",
       "         [[-0.05480128,  0.02735226,  0.07212769],\n",
       "          [-0.08123687,  0.04891717,  0.03430638],\n",
       "          [-0.00726462, -0.07223128,  0.05231306]]],\n",
       "\n",
       "\n",
       "        [[[ 0.01845928, -0.01737909, -0.04555583],\n",
       "          [ 0.04095877,  0.02015414, -0.06745242],\n",
       "          [-0.04649534,  0.04353527,  0.08319378]],\n",
       "\n",
       "         [[ 0.0807248 , -0.06913403,  0.01214619],\n",
       "          [-0.0426318 , -0.08113029, -0.04842059],\n",
       "          [-0.04304226, -0.07297003,  0.0084657 ]],\n",
       "\n",
       "         [[ 0.06353661,  0.00345819, -0.00251098],\n",
       "          [-0.06361562,  0.02724573, -0.02905988],\n",
       "          [-0.04784626, -0.02761168,  0.04206677]]]],\n",
       "\n",
       "\n",
       "\n",
       "       [[[[-0.0194251 ,  0.00161359,  0.06915885],\n",
       "          [-0.01995079, -0.00762492, -0.0597736 ],\n",
       "          [-0.00578006,  0.0369578 ,  0.07520272]],\n",
       "\n",
       "         [[-0.0448501 , -0.02932883, -0.07442899],\n",
       "          [ 0.00814508,  0.08228951,  0.07970831],\n",
       "          [-0.07103681, -0.03655983,  0.07352063]],\n",
       "\n",
       "         [[ 0.00729663,  0.06898913,  0.00298295],\n",
       "          [-0.02495887,  0.0766411 ,  0.06876229],\n",
       "          [ 0.04280839, -0.0339896 , -0.07975721]]],\n",
       "\n",
       "\n",
       "        [[[-0.0471412 , -0.04050357,  0.04675946],\n",
       "          [-0.03898142, -0.07003888, -0.00128368],\n",
       "          [ 0.0569228 ,  0.0094861 ,  0.04155561]],\n",
       "\n",
       "         [[-0.00159579,  0.00563099,  0.0408391 ],\n",
       "          [-0.07826811,  0.04403976,  0.04851666],\n",
       "          [ 0.0671589 , -0.07167541,  0.0308463 ]],\n",
       "\n",
       "         [[ 0.05015358, -0.00363501, -0.01593162],\n",
       "          [-0.02645726, -0.02589692,  0.03305512],\n",
       "          [-0.00151288,  0.0609426 ,  0.00683368]]],\n",
       "\n",
       "\n",
       "        [[[-0.07240705,  0.00316308, -0.07982334],\n",
       "          [-0.06717705,  0.08292136, -0.01271165],\n",
       "          [-0.07799347, -0.06461567,  0.05065296]],\n",
       "\n",
       "         [[-0.05474785,  0.04688369, -0.06932698],\n",
       "          [ 0.05244412,  0.04342555,  0.05865548],\n",
       "          [ 0.07950648, -0.0475085 , -0.04483085]],\n",
       "\n",
       "         [[ 0.04688975, -0.0459496 , -0.04328804],\n",
       "          [ 0.06368276, -0.02265194,  0.00692241],\n",
       "          [-0.00438774, -0.07029144,  0.06637925]]],\n",
       "\n",
       "\n",
       "        ..., \n",
       "        [[[-0.03326979,  0.02333365, -0.00053014],\n",
       "          [-0.01487798,  0.03159903,  0.05813517],\n",
       "          [ 0.01402778,  0.04831519, -0.03113619]],\n",
       "\n",
       "         [[ 0.07161818, -0.02062515,  0.05254052],\n",
       "          [ 0.00509953,  0.02667992, -0.0455174 ],\n",
       "          [ 0.00294894, -0.02636999,  0.05188748]],\n",
       "\n",
       "         [[ 0.03458438, -0.04354187,  0.07951187],\n",
       "          [-0.04508957,  0.01599769, -0.07968103],\n",
       "          [-0.0509276 , -0.05382749, -0.02217226]]],\n",
       "\n",
       "\n",
       "        [[[ 0.01392868, -0.03305886, -0.0146298 ],\n",
       "          [ 0.07732134,  0.04864185,  0.07234106],\n",
       "          [-0.0167935 ,  0.03019937,  0.08015808]],\n",
       "\n",
       "         [[ 0.00459904, -0.03111093,  0.01327951],\n",
       "          [-0.00624401, -0.03053681,  0.03052243],\n",
       "          [ 0.00358241, -0.08147072,  0.00305561]],\n",
       "\n",
       "         [[-0.02252997, -0.03089337,  0.04109731],\n",
       "          [ 0.00969945,  0.05960124,  0.00483233],\n",
       "          [-0.02465024, -0.01951726, -0.01046208]]],\n",
       "\n",
       "\n",
       "        [[[-0.03449717,  0.0441078 , -0.05505629],\n",
       "          [-0.04467878, -0.03209557,  0.01812877],\n",
       "          [ 0.03056144,  0.01577349,  0.049057  ]],\n",
       "\n",
       "         [[ 0.01663017,  0.00063291, -0.06618156],\n",
       "          [ 0.04691727,  0.07180902, -0.01017986],\n",
       "          [-0.07523416,  0.08144606,  0.06378269]],\n",
       "\n",
       "         [[-0.01818846,  0.06778158, -0.00727117],\n",
       "          [ 0.04834051, -0.01095296,  0.02662199],\n",
       "          [-0.00651926, -0.03429084,  0.0065537 ]]]],\n",
       "\n",
       "\n",
       "\n",
       "       [[[[-0.02553213, -0.00281184,  0.03516476],\n",
       "          [-0.01124106, -0.04188821, -0.02510313],\n",
       "          [-0.07223157,  0.04934404,  0.05394289]],\n",
       "\n",
       "         [[-0.00527216, -0.00955045, -0.08146315],\n",
       "          [-0.07235796, -0.08136819,  0.00921376],\n",
       "          [-0.01600236, -0.04835737,  0.02679512]],\n",
       "\n",
       "         [[-0.04560694, -0.07070082,  0.08299854],\n",
       "          [-0.03230606, -0.07630139, -0.04668702],\n",
       "          [ 0.07143489,  0.07101727, -0.02393908]]],\n",
       "\n",
       "\n",
       "        [[[-0.07607812, -0.01057378,  0.06815448],\n",
       "          [-0.0088086 , -0.05428079, -0.08067723],\n",
       "          [-0.01104346,  0.08207714,  0.05723633]],\n",
       "\n",
       "         [[-0.05987195,  0.04748588,  0.03923574],\n",
       "          [-0.07872346, -0.08315197,  0.00206667],\n",
       "          [-0.01190912,  0.07254369,  0.02634945]],\n",
       "\n",
       "         [[ 0.05743228, -0.03274411, -0.03926541],\n",
       "          [ 0.05585367,  0.01974256, -0.06684686],\n",
       "          [-0.03781014,  0.03349874,  0.04429042]]],\n",
       "\n",
       "\n",
       "        [[[-0.06213935, -0.01764434, -0.02134625],\n",
       "          [ 0.06570001, -0.05339346,  0.06499198],\n",
       "          [ 0.00616523, -0.04893054, -0.0786811 ]],\n",
       "\n",
       "         [[-0.01648855, -0.05872108,  0.00346251],\n",
       "          [ 0.04410255, -0.06087457, -0.02927583],\n",
       "          [ 0.00365256,  0.02984683, -0.06148683]],\n",
       "\n",
       "         [[ 0.06585189, -0.00818487,  0.02076894],\n",
       "          [-0.02042683, -0.05972964, -0.00502831],\n",
       "          [ 0.06863663,  0.08236822, -0.04295459]]],\n",
       "\n",
       "\n",
       "        ..., \n",
       "        [[[-0.06873924,  0.0152149 ,  0.07543944],\n",
       "          [ 0.06397328, -0.04658572, -0.04230035],\n",
       "          [-0.04693749,  0.0190942 ,  0.01667725]],\n",
       "\n",
       "         [[ 0.03967144,  0.01654193,  0.02858115],\n",
       "          [-0.0253852 , -0.03820957, -0.0706847 ],\n",
       "          [-0.04664749,  0.06788082,  0.01666373]],\n",
       "\n",
       "         [[ 0.01256493, -0.04047235, -0.07515737],\n",
       "          [ 0.05684729, -0.05012363, -0.0560666 ],\n",
       "          [-0.04675735, -0.02833941,  0.00449453]]],\n",
       "\n",
       "\n",
       "        [[[-0.06824793, -0.06701066, -0.07612564],\n",
       "          [ 0.03824894,  0.06151944,  0.00335642],\n",
       "          [-0.07600252,  0.00985125,  0.03473777]],\n",
       "\n",
       "         [[ 0.02877859, -0.02446107, -0.04912759],\n",
       "          [-0.04587339, -0.04618436,  0.0047195 ],\n",
       "          [-0.0820402 ,  0.05690792, -0.04830504]],\n",
       "\n",
       "         [[ 0.0503244 ,  0.00379779, -0.00238713],\n",
       "          [-0.02236957,  0.05564533, -0.02328301],\n",
       "          [-0.0414415 ,  0.01389234,  0.07985351]]],\n",
       "\n",
       "\n",
       "        [[[-0.00460113,  0.00276066,  0.05852471],\n",
       "          [-0.05718977,  0.06477275,  0.03729464],\n",
       "          [-0.01634634, -0.07127244, -0.07965934]],\n",
       "\n",
       "         [[-0.08145317, -0.05356422,  0.04943559],\n",
       "          [-0.04144608, -0.07731663,  0.0050587 ],\n",
       "          [ 0.01314934,  0.07993177, -0.07910812]],\n",
       "\n",
       "         [[-0.03969309, -0.06980271, -0.02218824],\n",
       "          [ 0.03502468, -0.07811769,  0.05683383],\n",
       "          [-0.02981423,  0.07790082, -0.04787219]]]],\n",
       "\n",
       "\n",
       "\n",
       "       ..., \n",
       "       [[[[-0.01594531,  0.07028821,  0.01618297],\n",
       "          [-0.06084362,  0.04417386,  0.03313323],\n",
       "          [ 0.04150178,  0.04502062, -0.03490332]],\n",
       "\n",
       "         [[-0.04201678,  0.02422513,  0.07864941],\n",
       "          [ 0.07430065,  0.05973257,  0.00696525],\n",
       "          [-0.01517167,  0.05822646,  0.06198662]],\n",
       "\n",
       "         [[-0.02456327,  0.0694214 , -0.03248122],\n",
       "          [-0.01830324, -0.03604071, -0.05478565],\n",
       "          [-0.00705759,  0.03448598,  0.00751375]]],\n",
       "\n",
       "\n",
       "        [[[ 0.02116576,  0.032101  , -0.03124142],\n",
       "          [ 0.0094399 ,  0.01996985, -0.00920643],\n",
       "          [ 0.0199798 , -0.06256437,  0.05992856]],\n",
       "\n",
       "         [[-0.0441762 ,  0.04957976,  0.01492972],\n",
       "          [ 0.04290311, -0.04847928,  0.03007107],\n",
       "          [-0.06938256, -0.07415117,  0.05009049]],\n",
       "\n",
       "         [[ 0.05062066, -0.05298535,  0.02639463],\n",
       "          [-0.01680669,  0.05722444, -0.02144245],\n",
       "          [-0.05551951,  0.02071669, -0.03526328]]],\n",
       "\n",
       "\n",
       "        [[[-0.03422781, -0.04051499, -0.06679638],\n",
       "          [-0.03339893,  0.02711763, -0.06963938],\n",
       "          [ 0.03767635,  0.05835083, -0.03075961]],\n",
       "\n",
       "         [[-0.01108801,  0.04752179,  0.0643194 ],\n",
       "          [-0.05974748, -0.06080639, -0.03252533],\n",
       "          [ 0.02029744,  0.02098529, -0.05411048]],\n",
       "\n",
       "         [[ 0.06842811, -0.07049746,  0.05382464],\n",
       "          [-0.00478011,  0.01572873, -0.03575764],\n",
       "          [-0.01995685,  0.03885671,  0.01199143]]],\n",
       "\n",
       "\n",
       "        ..., \n",
       "        [[[-0.05051367,  0.05557078, -0.05951415],\n",
       "          [-0.01235644,  0.04687056, -0.08221859],\n",
       "          [-0.02650164, -0.00434386,  0.06236429]],\n",
       "\n",
       "         [[ 0.02344766, -0.07033654,  0.01669313],\n",
       "          [ 0.07857146,  0.01953856, -0.08256513],\n",
       "          [-0.0384838 , -0.03993855, -0.03950455]],\n",
       "\n",
       "         [[ 0.02679461, -0.06906727, -0.07972986],\n",
       "          [-0.013563  , -0.03809641, -0.00943048],\n",
       "          [-0.02418382, -0.0295497 ,  0.07153174]]],\n",
       "\n",
       "\n",
       "        [[[ 0.03116549,  0.07879335, -0.05891356],\n",
       "          [ 0.02222369, -0.07509491,  0.08145141],\n",
       "          [-0.06482162, -0.07619272,  0.0212745 ]],\n",
       "\n",
       "         [[-0.03576518,  0.07484023, -0.02047059],\n",
       "          [-0.08132285, -0.05181446,  0.032455  ],\n",
       "          [-0.01236069, -0.0362792 ,  0.00605118]],\n",
       "\n",
       "         [[ 0.02873252,  0.03354128,  0.07626237],\n",
       "          [ 0.05529288, -0.04809318, -0.07018463],\n",
       "          [ 0.01357513, -0.04323427,  0.06275059]]],\n",
       "\n",
       "\n",
       "        [[[-0.04030531,  0.03729742,  0.01961935],\n",
       "          [-0.04328314,  0.04181069,  0.07074307],\n",
       "          [ 0.06007337,  0.05000833, -0.04941647]],\n",
       "\n",
       "         [[-0.01218575, -0.02341028, -0.01756755],\n",
       "          [-0.06058953,  0.07728596,  0.03263061],\n",
       "          [ 0.03117368,  0.04206411, -0.06566627]],\n",
       "\n",
       "         [[ 0.07997198, -0.03753639,  0.0613759 ],\n",
       "          [ 0.05044304, -0.0612277 , -0.06114603],\n",
       "          [-0.0112802 ,  0.08082319,  0.08052688]]]],\n",
       "\n",
       "\n",
       "\n",
       "       [[[[-0.04675442, -0.05060905,  0.08297598],\n",
       "          [-0.03770938,  0.05236968,  0.02217032],\n",
       "          [-0.06830661,  0.04382163,  0.05558774]],\n",
       "\n",
       "         [[ 0.07492089,  0.00469986, -0.05245107],\n",
       "          [ 0.00908764, -0.02347181, -0.07672551],\n",
       "          [ 0.07140958, -0.01672183, -0.05384943]],\n",
       "\n",
       "         [[ 0.00346066, -0.06737868, -0.05739601],\n",
       "          [ 0.02370615, -0.03029191,  0.0157009 ],\n",
       "          [ 0.06384453, -0.05374161,  0.07306414]]],\n",
       "\n",
       "\n",
       "        [[[ 0.00323562, -0.00054346,  0.06958281],\n",
       "          [ 0.03027636,  0.07187302,  0.03234274],\n",
       "          [ 0.07240453,  0.03469287, -0.04594928]],\n",
       "\n",
       "         [[-0.06325388,  0.03506021,  0.04508792],\n",
       "          [-0.0660158 ,  0.07620296,  0.02788167],\n",
       "          [-0.04336225,  0.02485798,  0.08310027]],\n",
       "\n",
       "         [[ 0.07728186,  0.04145699,  0.03609294],\n",
       "          [ 0.02507809, -0.02861033, -0.04717055],\n",
       "          [-0.00909579, -0.06183401,  0.01873019]]],\n",
       "\n",
       "\n",
       "        [[[ 0.05032953, -0.01010763, -0.01435832],\n",
       "          [-0.01758563, -0.01335541, -0.02315609],\n",
       "          [ 0.05912004,  0.03493156, -0.05132678]],\n",
       "\n",
       "         [[-0.00312171, -0.02653281,  0.04062347],\n",
       "          [-0.01081804, -0.03824981, -0.0818342 ],\n",
       "          [ 0.0154213 , -0.03585345,  0.05104932]],\n",
       "\n",
       "         [[-0.00016189,  0.04072323, -0.03070755],\n",
       "          [ 0.07864049, -0.06042903, -0.07685111],\n",
       "          [-0.05831925, -0.0664584 ,  0.08306024]]],\n",
       "\n",
       "\n",
       "        ..., \n",
       "        [[[-0.07350123, -0.00430906, -0.004398  ],\n",
       "          [ 0.02598402, -0.07240656,  0.00611376],\n",
       "          [ 0.00399881, -0.00591327, -0.02640627]],\n",
       "\n",
       "         [[-0.00362888,  0.03184004, -0.07433544],\n",
       "          [-0.03362325, -0.07846586,  0.05529574],\n",
       "          [-0.05620641,  0.06722229, -0.0075714 ]],\n",
       "\n",
       "         [[-0.00943329, -0.04485494, -0.06526916],\n",
       "          [-0.01285335, -0.03909705, -0.02858619],\n",
       "          [ 0.03001373,  0.02199288, -0.00222753]]],\n",
       "\n",
       "\n",
       "        [[[-0.06163094, -0.06957142, -0.0247805 ],\n",
       "          [ 0.03249596, -0.07143311, -0.01066669],\n",
       "          [-0.01292859,  0.01335065, -0.0450836 ]],\n",
       "\n",
       "         [[ 0.03147193, -0.00829625, -0.00106105],\n",
       "          [ 0.04935969,  0.06544408,  0.00532509],\n",
       "          [ 0.04700787,  0.05564801, -0.0044853 ]],\n",
       "\n",
       "         [[-0.01631542, -0.04049419, -0.03695525],\n",
       "          [ 0.07603268,  0.01651221,  0.05433894],\n",
       "          [ 0.04030723,  0.02532522,  0.0411455 ]]],\n",
       "\n",
       "\n",
       "        [[[-0.03238302, -0.03117575,  0.01456448],\n",
       "          [-0.08153469, -0.03463747,  0.00387765],\n",
       "          [ 0.02322134, -0.06639221, -0.05458296]],\n",
       "\n",
       "         [[ 0.07495769,  0.02551794, -0.03374414],\n",
       "          [ 0.05183919, -0.06979549,  0.00610863],\n",
       "          [ 0.00262647, -0.03422368, -0.00591584]],\n",
       "\n",
       "         [[ 0.01502379, -0.03475256, -0.03461356],\n",
       "          [-0.04434438,  0.01426395, -0.00123617],\n",
       "          [ 0.05918632, -0.05456401, -0.01807153]]]],\n",
       "\n",
       "\n",
       "\n",
       "       [[[[-0.03139182,  0.04031939, -0.00735269],\n",
       "          [ 0.01484517, -0.02424913, -0.06274749],\n",
       "          [-0.05844568,  0.01796639, -0.01650297]],\n",
       "\n",
       "         [[ 0.03938145, -0.01476415,  0.04680843],\n",
       "          [-0.07668061, -0.01426807, -0.02804045],\n",
       "          [-0.01552896, -0.02308439, -0.01823884]],\n",
       "\n",
       "         [[-0.06976632, -0.00384849,  0.045049  ],\n",
       "          [-0.03002889,  0.00742317, -0.05751991],\n",
       "          [-0.00778204, -0.02766641, -0.02003126]]],\n",
       "\n",
       "\n",
       "        [[[-0.0023851 , -0.04936266, -0.01036691],\n",
       "          [ 0.03385725, -0.0615012 ,  0.02613659],\n",
       "          [ 0.05470368, -0.06816486, -0.06608009]],\n",
       "\n",
       "         [[ 0.04596803, -0.04011706,  0.06814981],\n",
       "          [-0.05872539, -0.08111253,  0.03371099],\n",
       "          [ 0.02885304,  0.00908583,  0.04213237]],\n",
       "\n",
       "         [[-0.07348596, -0.01091967, -0.02776142],\n",
       "          [-0.04298408, -0.04668277, -0.03206844],\n",
       "          [ 0.05316694, -0.05066949, -0.07658916]]],\n",
       "\n",
       "\n",
       "        [[[ 0.06495646, -0.04017844, -0.00830077],\n",
       "          [-0.0007517 ,  0.05796825, -0.00121352],\n",
       "          [ 0.02311786, -0.01084884, -0.0607328 ]],\n",
       "\n",
       "         [[ 0.06167872, -0.04100566, -0.00527642],\n",
       "          [ 0.06167196, -0.0110609 , -0.01468879],\n",
       "          [ 0.04680327, -0.01820243, -0.00528576]],\n",
       "\n",
       "         [[ 0.04966602,  0.08117572,  0.05465779],\n",
       "          [ 0.00108841, -0.07577358, -0.03914582],\n",
       "          [ 0.02444283,  0.07999497,  0.00106523]]],\n",
       "\n",
       "\n",
       "        ..., \n",
       "        [[[-0.03796313,  0.05674553,  0.04341501],\n",
       "          [-0.0202987 , -0.07850733,  0.01883689],\n",
       "          [ 0.08278123, -0.05304895, -0.07932081]],\n",
       "\n",
       "         [[ 0.0430897 , -0.00348827,  0.02007606],\n",
       "          [-0.01577154, -0.05153707,  0.00228163],\n",
       "          [ 0.02154126,  0.04796597,  0.0477241 ]],\n",
       "\n",
       "         [[-0.07106013,  0.00682374, -0.01410729],\n",
       "          [ 0.06370609,  0.06796059, -0.05909481],\n",
       "          [ 0.0264841 , -0.05548801, -0.00863645]]],\n",
       "\n",
       "\n",
       "        [[[-0.05389491, -0.07425876,  0.02759366],\n",
       "          [-0.06710649, -0.07978914, -0.04212501],\n",
       "          [-0.0333581 ,  0.06529219,  0.05952926]],\n",
       "\n",
       "         [[-0.07954231, -0.02974808,  0.03742709],\n",
       "          [-0.00744753,  0.05625481,  0.0412387 ],\n",
       "          [ 0.01693699,  0.0094903 ,  0.01628427]],\n",
       "\n",
       "         [[-0.03083663,  0.07307071,  0.08172628],\n",
       "          [ 0.04471666, -0.05128879,  0.02567327],\n",
       "          [-0.07203191,  0.015581  ,  0.0016164 ]]],\n",
       "\n",
       "\n",
       "        [[[-0.02640921,  0.01988656,  0.07213028],\n",
       "          [-0.00857313, -0.00389104,  0.06979812],\n",
       "          [ 0.05501444,  0.00924429,  0.05902267]],\n",
       "\n",
       "         [[ 0.00623473,  0.03748401, -0.06762047],\n",
       "          [-0.0486057 ,  0.0646022 ,  0.06380922],\n",
       "          [ 0.02969816, -0.04287516, -0.03027773]],\n",
       "\n",
       "         [[ 0.00835774, -0.00426198,  0.08067449],\n",
       "          [ 0.01557499, -0.06276672, -0.05336683],\n",
       "          [ 0.00252028, -0.03073028,  0.07579897]]]]], dtype=float32)"
      ]
     },
     "execution_count": 23,
     "metadata": {},
     "output_type": "execute_result"
    }
   ],
   "source": [
    "b.get_value()"
   ]
  },
  {
   "cell_type": "code",
   "execution_count": 30,
   "metadata": {
    "collapsed": false
   },
   "outputs": [
    {
     "name": "stdout",
     "output_type": "stream",
     "text": [
      "72\n"
     ]
    }
   ],
   "source": [
    "params_test = numpy.load('best_weights.npz')\n",
    "print len(params_test['arr_0'])\n"
   ]
  },
  {
   "cell_type": "code",
   "execution_count": 32,
   "metadata": {
    "collapsed": false
   },
   "outputs": [],
   "source": [
    "for p, value in zip(cg.shared_variables, params_test['arr_0']):\n",
    "    \n",
    "    p.set_value(value)"
   ]
  },
  {
   "cell_type": "code",
   "execution_count": 33,
   "metadata": {
    "collapsed": false
   },
   "outputs": [],
   "source": [
    "f = theano.function([input_var], test_prediction)"
   ]
  },
  {
   "cell_type": "code",
   "execution_count": 34,
   "metadata": {
    "collapsed": false
   },
   "outputs": [],
   "source": [
    "valid_stream = ServerDataStream(('cases', 'image_features', 'image_targets', 'multiplier'), False, hwm=10, port=5558)"
   ]
  },
  {
   "cell_type": "code",
   "execution_count": 35,
   "metadata": {
    "collapsed": false
   },
   "outputs": [],
   "source": [
    "ei = valid_stream.get_epoch_iterator()\n",
    "d = next(ei)"
   ]
  },
  {
   "cell_type": "code",
   "execution_count": 36,
   "metadata": {
    "collapsed": false
   },
   "outputs": [],
   "source": [
    "out = f(d[1])"
   ]
  },
  {
   "cell_type": "code",
   "execution_count": 37,
   "metadata": {
    "collapsed": false
   },
   "outputs": [
    {
     "name": "stdout",
     "output_type": "stream",
     "text": [
      "(12, 64, 64)\n"
     ]
    }
   ],
   "source": [
    "print d[2][0].shape"
   ]
  },
  {
   "cell_type": "code",
   "execution_count": 48,
   "metadata": {
    "collapsed": false
   },
   "outputs": [
    {
     "data": {
      "image/png": "[encoded data removed]",
      "text/plain": [
       "<matplotlib.figure.Figure at 0x7f5bcf5fe810>"
      ]
     },
     "metadata": {},
     "output_type": "display_data"
    },
    {
     "data": {
      "image/png": "[encoded data removed]",
      "text/plain": [
       "<matplotlib.figure.Figure at 0x7f5bc032b310>"
      ]
     },
     "metadata": {},
     "output_type": "display_data"
    },
    {
     "name": "stdout",
     "output_type": "stream",
     "text": [
      "8.82913e-06 0.999227\n"
     ]
    },
    {
     "data": {
      "text/plain": [
       "<matplotlib.image.AxesImage at 0x7f5bd060e790>"
      ]
     },
     "execution_count": 48,
     "metadata": {},
     "output_type": "execute_result"
    },
    {
     "data": {
      "image/png": "[encoded data removed]",
      "text/plain": [
       "<matplotlib.figure.Figure at 0x7f5bcf80b890>"
      ]
     },
     "metadata": {},
     "output_type": "display_data"
    }
   ],
   "source": [
    "i = 0\n",
    "frame = 10\n",
    "plt.imshow(d[1][i,frame,:,:])\n",
    "plt.imshow(d[2][i,frame,:,:], alpha=0.7)\n",
    "plt.show()\n",
    "\n",
    "plt.imshow(out[i,0,frame,:,:], vmin=0, vmax=1)\n",
    "#plt.imshow(d[2][i,frame,:,:], alpha=0.7)\n",
    "plt.show()\n",
    "\n",
    "print out[i,0,frame,:,:].min(), out[i,0,frame,:,:].max()\n",
    "plt.imshow(out[i,0,frame,:,:]>0.5)"
   ]
  },
  {
   "cell_type": "code",
   "execution_count": 39,
   "metadata": {
    "collapsed": false
   },
   "outputs": [
    {
     "data": {
      "text/plain": [
       "['arr_0']"
      ]
     },
     "execution_count": 39,
     "metadata": {},
     "output_type": "execute_result"
    }
   ],
   "source": [
    "params_test.keys()"
   ]
  },
  {
   "cell_type": "code",
   "execution_count": 40,
   "metadata": {
    "collapsed": false
   },
   "outputs": [
    {
     "name": "stderr",
     "output_type": "stream",
     "text": [
      "WARNING:bokeh.session:root_url should end with a /, adding one\n"
     ]
    },
    {
     "name": "stdout",
     "output_type": "stream",
     "text": [
      "Using saved session configuration for http://localhost:5006\n",
      "To override, pass 'load_from_config=False' to Session\n"
     ]
    }
   ],
   "source": [
    "model = load('train')"
   ]
  },
  {
   "cell_type": "code",
   "execution_count": 41,
   "metadata": {
    "collapsed": false
   },
   "outputs": [
    {
     "ename": "AttributeError",
     "evalue": "no model in this main loop\n\nA possible reason: one of your extensions requires the main loop to have a model. Check documentation of your extensions.",
     "output_type": "error",
     "traceback": [
      "\u001b[1;31m---------------------------------------------------------------------------\u001b[0m",
      "\u001b[1;31mAttributeError\u001b[0m                            Traceback (most recent call last)",
      "\u001b[1;32m<ipython-input-41-f51468d60379>\u001b[0m in \u001b[0;36m<module>\u001b[1;34m()\u001b[0m\n\u001b[1;32m----> 1\u001b[1;33m \u001b[0mmodel\u001b[0m\u001b[1;33m.\u001b[0m\u001b[0mmodel\u001b[0m\u001b[1;33m\u001b[0m\u001b[0m\n\u001b[0m",
      "\u001b[1;32m/home/ubuntu/mnt/envs/second/lib/python2.7/site-packages/blocks/main_loop.pyc\u001b[0m in \u001b[0;36mmodel\u001b[1;34m(self)\u001b[0m\n\u001b[0;32m    119\u001b[0m         \u001b[1;32mif\u001b[0m \u001b[1;32mnot\u001b[0m \u001b[0mself\u001b[0m\u001b[1;33m.\u001b[0m\u001b[0m_model\u001b[0m\u001b[1;33m:\u001b[0m\u001b[1;33m\u001b[0m\u001b[0m\n\u001b[0;32m    120\u001b[0m             raise AttributeError(\"no model in this main loop\" +\n\u001b[1;32m--> 121\u001b[1;33m                                  no_model_message)\n\u001b[0m\u001b[0;32m    122\u001b[0m         \u001b[1;32mreturn\u001b[0m \u001b[0mself\u001b[0m\u001b[1;33m.\u001b[0m\u001b[0m_model\u001b[0m\u001b[1;33m\u001b[0m\u001b[0m\n\u001b[0;32m    123\u001b[0m \u001b[1;33m\u001b[0m\u001b[0m\n",
      "\u001b[1;31mAttributeError\u001b[0m: no model in this main loop\n\nA possible reason: one of your extensions requires the main loop to have a model. Check documentation of your extensions."
     ]
    }
   ],
   "source": [
    "model.model"
   ]
  }
 ],
 "metadata": {
  "kernelspec": {
   "display_name": "Python 2",
   "language": "python",
   "name": "python2"
  },
  "language_info": {
   "codemirror_mode": {
    "name": "ipython",
    "version": 2
   },
   "file_extension": ".py",
   "mimetype": "text/x-python",
   "name": "python",
   "nbconvert_exporter": "python",
   "pygments_lexer": "ipython2",
   "version": "2.7.11"
  }
 },
 "nbformat": 4,
 "nbformat_minor": 0
}
