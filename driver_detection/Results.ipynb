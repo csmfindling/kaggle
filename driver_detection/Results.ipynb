{
 "cells": [
  {
   "cell_type": "markdown",
   "metadata": {},
   "source": [
    "source : https://github.com/mila-udem/blocks-examples/blob/master/reverse_words/__init__.py"
   ]
  },
  {
   "cell_type": "code",
   "execution_count": 9,
   "metadata": {
    "collapsed": true
   },
   "outputs": [],
   "source": [
    "import theano\n",
    "import numpy\n",
    "\n",
    "from theano import tensor\n",
    "from fuel.streams import ServerDataStream\n",
    "\n",
    "%matplotlib inline\n",
    "import matplotlib.pyplot as plt\n",
    "import matplotlib.image as mpimg\n",
    "from models.ann_2_blocks import build_model\n",
    "from blocks.algorithms import GradientDescent, Adam\n",
    "from blocks.graph import ComputationGraph\n",
    "from blocks.model import Model\n",
    "import csv"
   ]
  },
  {
   "cell_type": "markdown",
   "metadata": {},
   "source": [
    "LOAD COMPUTATIONAL MODEL"
   ]
  },
  {
   "cell_type": "code",
   "execution_count": 10,
   "metadata": {
    "collapsed": true
   },
   "outputs": [],
   "source": [
    "images           = tensor.dtensor4('images')\n",
    "images_test      = tensor.dtensor4('images_test')\n",
    "labels           = tensor.lmatrix('labels')\n",
    "cost             = build_model(images.dimshuffle(0,3,1,2), labels)"
   ]
  },
  {
   "cell_type": "code",
   "execution_count": 11,
   "metadata": {
    "collapsed": false
   },
   "outputs": [],
   "source": [
    "from blocks.model import Model\n",
    "from blocks.serialization import load_parameters, load\n",
    "import pickle"
   ]
  },
  {
   "cell_type": "code",
   "execution_count": 12,
   "metadata": {
    "collapsed": false
   },
   "outputs": [],
   "source": [
    "#main_loop = load(open(\"../train\", \"rb\"))\n",
    "#sample = theano.function([images_test], main_loop.model.get_top_bricks()[0].apply(images_test.dimshuffle(0,3,1,2)))\n",
    "dict = {0: 'safe driving', 1: 'texting-right', 2: 'talking on the phone - right', 3: 'texting - left',\n",
    "           4: 'talking on the phone', 5: 'operating the radio', 6: 'drinking', 7: 'reaching behind',\n",
    "           8: 'hair and makeup', 9: 'talking to passenger'}"
   ]
  },
  {
   "cell_type": "code",
   "execution_count": 13,
   "metadata": {
    "collapsed": false
   },
   "outputs": [],
   "source": [
    "parameters = load_parameters(open(\"../train\", \"rb\"))\n",
    "model = Model(cost)\n",
    "model.set_parameter_values(parameters)\n",
    "sample = theano.function([images_test], model.get_top_bricks()[0].apply(images_test.dimshuffle(0,3,1,2)))"
   ]
  },
  {
   "cell_type": "markdown",
   "metadata": {},
   "source": [
    "Upload testing data"
   ]
  },
  {
   "cell_type": "code",
   "execution_count": 14,
   "metadata": {
    "collapsed": false
   },
   "outputs": [],
   "source": [
    "from fuel.datasets.hdf5 import H5PYDataset\n",
    "from fuel.schemes import SequentialScheme\n",
    "from fuel.streams import DataStream\n",
    "from functions.custom_transformers import Normalize, Cast\n",
    "submit_set = H5PYDataset('../data/data.hdf5', which_sets=('submit',), subset=slice(0, 79726),)"
   ]
  },
  {
   "cell_type": "code",
   "execution_count": 20,
   "metadata": {
    "collapsed": false
   },
   "outputs": [],
   "source": [
    "stream = DataStream.default_stream(\n",
    "    submit_set,\n",
    "    iteration_scheme=SequentialScheme(submit_set.num_examples, 500)\n",
    ")\n",
    "stream_normalized = Normalize(stream)\n",
    "stream_casted     = Cast(stream_normalized, 'floatX')"
   ]
  },
  {
   "cell_type": "markdown",
   "metadata": {},
   "source": [
    "Create submission file"
   ]
  },
  {
   "cell_type": "code",
   "execution_count": 21,
   "metadata": {
    "collapsed": false
   },
   "outputs": [],
   "source": [
    "stream.reset()\n",
    "f = open('submit_1.csv', 'ab'); spamwriter = csv.writer(f, delimiter=',')\n",
    "spamwriter.writerow(['img','c0','c1','c2','c3','c4','c5','c6','c7','c8','c9'])\n",
    "count      = 0\n",
    "it = stream_casted.get_epoch_iterator()\n",
    "for data in it:\n",
    "    labels = sample(data[0])\n",
    "    for i in range(labels.shape[0]):\n",
    "        spamwriter.writerow(['img_' + str(data[1][i][0]) + '.jpg'] + list(labels[i]))\n",
    "        count += 1\n",
    "assert(count == 79726)"
   ]
  },
  {
   "cell_type": "code",
   "execution_count": 19,
   "metadata": {
    "collapsed": false
   },
   "outputs": [
    {
     "data": {
      "text/plain": [
       "79726"
      ]
     },
     "execution_count": 19,
     "metadata": {},
     "output_type": "execute_result"
    }
   ],
   "source": [
    "count"
   ]
  }
 ],
 "metadata": {
  "kernelspec": {
   "display_name": "Python 2",
   "language": "python",
   "name": "python2"
  },
  "language_info": {
   "codemirror_mode": {
    "name": "ipython",
    "version": 2
   },
   "file_extension": ".py",
   "mimetype": "text/x-python",
   "name": "python",
   "nbconvert_exporter": "python",
   "pygments_lexer": "ipython2",
   "version": "2.7.11"
  }
 },
 "nbformat": 4,
 "nbformat_minor": 0
}
