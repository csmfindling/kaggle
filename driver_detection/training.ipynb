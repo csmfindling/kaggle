{
 "cells": [
  {
   "cell_type": "code",
   "execution_count": 1,
   "metadata": {
    "collapsed": true
   },
   "outputs": [],
   "source": [
    "# source https://github.com/tfjgeorge/ift6268/blob/master/projet/FF%20texture%20generation%20bricks%20-%20Adam%20blocks%20training.ipynb"
   ]
  },
  {
   "cell_type": "code",
   "execution_count": 1,
   "metadata": {
    "collapsed": false
   },
   "outputs": [
    {
     "name": "stderr",
     "output_type": "stream",
     "text": [
      "Using gpu device 0: GRID K520 (CNMeM is disabled, CuDNN 3007)\n"
     ]
    }
   ],
   "source": [
    "import theano\n",
    "import numpy\n",
    "\n",
    "from theano import tensor\n",
    "from fuel.streams import ServerDataStream\n",
    "\n",
    "%matplotlib inline\n",
    "import matplotlib.pyplot as plt\n",
    "import matplotlib.image as mpimg\n",
    "from models.ann_2_blocks import build_model\n",
    "from blocks.algorithms import GradientDescent, Adam\n",
    "from blocks.graph import ComputationGraph"
   ]
  },
  {
   "cell_type": "markdown",
   "metadata": {
    "collapsed": true
   },
   "source": [
    "LOAD NEURAL NETWORK AND LOSS"
   ]
  },
  {
   "cell_type": "code",
   "execution_count": 2,
   "metadata": {
    "collapsed": false
   },
   "outputs": [],
   "source": [
    "images = tensor.ftensor4('images')\n",
    "labels = tensor.lmatrix('labels')\n",
    "cost   = build_model(images.dimshuffle(0,3,1,2), labels)"
   ]
  },
  {
   "cell_type": "markdown",
   "metadata": {
    "collapsed": true
   },
   "source": [
    "LEARN WEIGHTS"
   ]
  },
  {
   "cell_type": "code",
   "execution_count": 3,
   "metadata": {
    "collapsed": false
   },
   "outputs": [],
   "source": [
    "train_stream = ServerDataStream(('images', 'labels'), False, hwm=10)\n",
    "valid_stream = ServerDataStream(('images', 'labels'), False, hwm=10, port=5558)"
   ]
  },
  {
   "cell_type": "code",
   "execution_count": 4,
   "metadata": {
    "collapsed": false
   },
   "outputs": [],
   "source": [
    "cg = ComputationGraph(cost)\n",
    "\n",
    "algorithm = GradientDescent(\n",
    "\tcost=cost,\n",
    "\tparameters=cg.parameters,\n",
    "\tstep_rule=Adam()\n",
    ")"
   ]
  },
  {
   "cell_type": "code",
   "execution_count": 5,
   "metadata": {
    "collapsed": false
   },
   "outputs": [
    {
     "name": "stdout",
     "output_type": "stream",
     "text": [
      "Using saved session configuration for http://localhost:5006\n",
      "To override, pass 'load_from_config=False' to Session\n"
     ]
    }
   ],
   "source": [
    "from blocks.extensions import Printing, Timing\n",
    "from blocks.extensions.training import TrackTheBest\n",
    "from blocks.extensions.monitoring import TrainingDataMonitoring, DataStreamMonitoring\n",
    "from blocks.extensions.stopping import FinishIfNoImprovementAfter\n",
    "from blocks.extensions.saveload import Checkpoint\n",
    "from blocks_extras.extensions.plot import Plot\n",
    "import socket\n",
    "import datetime\n",
    "import time\n",
    "\n",
    "host_plot = 'http://localhost:5006'\n",
    "cost.name = 'cost'\n",
    "\n",
    "extensions = [\n",
    "    Timing(),\n",
    "    TrainingDataMonitoring([cost], after_epoch=True),\n",
    "    DataStreamMonitoring(variables=[cost], data_stream=valid_stream, prefix=\"valid\"),\n",
    "    Plot('ann_2 %s' % (datetime.datetime.now(), ),channels=[['cost'],['valid_cost']], after_epoch=True, server_url=host_plot),\n",
    "    TrackTheBest('valid_cost'),\n",
    "    Checkpoint('train'),\n",
    "    FinishIfNoImprovementAfter('loss_best_so_far', epochs=5),\n",
    "    Printing()\n",
    "]"
   ]
  },
  {
   "cell_type": "code",
   "execution_count": 6,
   "metadata": {
    "collapsed": false
   },
   "outputs": [],
   "source": [
    "from blocks.main_loop import MainLoop\n",
    "\n",
    "\n",
    "main_loop = MainLoop(data_stream=train_stream, algorithm=algorithm,\n",
    "                     extensions=extensions)"
   ]
  },
  {
   "cell_type": "code",
   "execution_count": null,
   "metadata": {
    "collapsed": false
   },
   "outputs": [
    {
     "name": "stdout",
     "output_type": "stream",
     "text": [
      "\n",
      "-------------------------------------------------------------------------------\n",
      "BEFORE FIRST EPOCH\n",
      "-------------------------------------------------------------------------------\n",
      "Training status:\n",
      "\t batch_interrupt_received: False\n",
      "\t epoch_interrupt_received: False\n",
      "\t epoch_started: True\n",
      "\t epochs_done: 0\n",
      "\t iterations_done: 0\n",
      "\t received_first_batch: False\n",
      "\t resumed_from: None\n",
      "\t training_started: True\n",
      "Log records from the iteration 0:\n",
      "\t time_initialization: 71.1842660904\n",
      "\t valid_cost: 53.7663879395\n",
      "\n"
     ]
    }
   ],
   "source": [
    "main_loop.run()"
   ]
  },
  {
   "cell_type": "code",
   "execution_count": null,
   "metadata": {
    "collapsed": true
   },
   "outputs": [],
   "source": []
  }
 ],
 "metadata": {
  "kernelspec": {
   "display_name": "Python 2",
   "language": "python",
   "name": "python2"
  },
  "language_info": {
   "codemirror_mode": {
    "name": "ipython",
    "version": 2
   },
   "file_extension": ".py",
   "mimetype": "text/x-python",
   "name": "python",
   "nbconvert_exporter": "python",
   "pygments_lexer": "ipython2",
   "version": "2.7.11"
  }
 },
 "nbformat": 4,
 "nbformat_minor": 0
}
