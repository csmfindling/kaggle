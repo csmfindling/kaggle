{
 "cells": [
  {
   "cell_type": "code",
   "execution_count": 24,
   "metadata": {
    "collapsed": false
   },
   "outputs": [],
   "source": [
    "from blocks.serialization import load\n",
    "from theano import tensor, function\n",
    "\n",
    "# theano variables\n",
    "features_car_cat = tensor.dmatrix('features_car_cat')\n",
    "features_car_int = tensor.dmatrix('features_car_int')\n",
    "features_nocar_cat = tensor.dmatrix('features_nocar_cat')\n",
    "features_nocar_int = tensor.dmatrix('features_nocar_int')\n",
    "features_cp = tensor.imatrix('codepostal')\n",
    "features_hascar = tensor.imatrix('features_hascar')\n",
    "\n",
    "main_loop = load(open(\"./model\", \"rb\"))\n",
    "model = main_loop.model"
   ]
  },
  {
   "cell_type": "code",
   "execution_count": 25,
   "metadata": {
    "collapsed": false
   },
   "outputs": [],
   "source": [
    "f = model.get_theano_function()"
   ]
  },
  {
   "cell_type": "code",
   "execution_count": 26,
   "metadata": {
    "collapsed": false
   },
   "outputs": [
    {
     "name": "stdout",
     "output_type": "stream",
     "text": [
      "(u'codepostal', u'features_car_cat', u'features_car_int', u'features_hascar', u'features_nocar_cat', u'features_nocar_int', u'labels')\n"
     ]
    }
   ],
   "source": [
    "from fuel.datasets.hdf5 import H5PYDataset\n",
    "\n",
    "submit_set = H5PYDataset(\n",
    "    './data/data.hdf5',\n",
    "    which_sets=('submit',),\n",
    "    load_in_memory=True\n",
    ")\n",
    "\n",
    "from fuel.schemes import ShuffledScheme\n",
    "from fuel.streams import DataStream\n",
    "\n",
    "\n",
    "submit_stream = DataStream.default_stream(\n",
    "    submit_set,\n",
    "    iteration_scheme=ShuffledScheme(submit_set.num_examples, batch_size=5000)\n",
    ")"
   ]
  },
  {
   "cell_type": "code",
   "execution_count": 29,
   "metadata": {
    "collapsed": false
   },
   "outputs": [],
   "source": [
    "i = 300001\n",
    "output_file = open('submit.csv', 'w')\n",
    "output_file.write('ID;COTIS\\n')\n",
    "for d in submit_stream.get_epoch_iterator():\n",
    "    output = f(d[0], d[1], d[2], d[3], d[4], d[5], d[6])\n",
    "    \n",
    "    for estim in output[1][:,0]:\n",
    "        output_file.write('%d;%.3f\\n' % (i, estim))\n",
    "        i += 1\n",
    "    \n",
    "output_file.close()"
   ]
  },
  {
   "cell_type": "code",
   "execution_count": 32,
   "metadata": {
    "collapsed": false
   },
   "outputs": [
    {
     "name": "stdout",
     "output_type": "stream",
     "text": [
      "[<TensorType(float64, vector)>, b, b, b, b, W, W, W, W]\n",
      "(u'codepostal', u'features_car_cat', u'features_car_int', u'features_hascar', u'features_nocar_cat', u'features_nocar_int', u'labels')\n"
     ]
    }
   ],
   "source": [
    "print model.inputs\n",
    "print submit_set.provides_sources\n"
   ]
  },
  {
   "cell_type": "code",
   "execution_count": 37,
   "metadata": {
    "collapsed": false
   },
   "outputs": [
    {
     "name": "stdout",
     "output_type": "stream",
     "text": [
      "None\n",
      "(23712,)\n",
      "b\n",
      "(1,)\n",
      "b\n",
      "(800,)\n",
      "b\n",
      "(1,)\n",
      "b\n",
      "(800,)\n",
      "W\n",
      "(193, 800)\n",
      "W\n",
      "(140, 800)\n",
      "W\n",
      "(800, 1)\n",
      "W\n",
      "(800, 1)\n"
     ]
    }
   ],
   "source": [
    "for sv in model.shared_variables:\n",
    "    print sv.name\n",
    "    print sv.get_value().shape\n"
   ]
  },
  {
   "cell_type": "code",
   "execution_count": 38,
   "metadata": {
    "collapsed": false
   },
   "outputs": [
    {
     "name": "stdout",
     "output_type": "stream",
     "text": [
      "[ 346.04348755  434.70510864  371.25332642 ...,  346.04348755  346.04348755\n",
      "  346.04348755]\n"
     ]
    }
   ],
   "source": [
    "print model.shared_variables[0].get_value()"
   ]
  },
  {
   "cell_type": "code",
   "execution_count": 39,
   "metadata": {
    "collapsed": true
   },
   "outputs": [],
   "source": [
    "%matplotlib inline\n",
    "import matplotlib.pyplot as plt"
   ]
  },
  {
   "cell_type": "code",
   "execution_count": 43,
   "metadata": {
    "collapsed": false
   },
   "outputs": [
    {
     "data": {
      "image/png": "[encoded data removed]",
      "text/plain": [
       "<matplotlib.figure.Figure at 0x7f3179676e10>"
      ]
     },
     "metadata": {},
     "output_type": "display_data"
    }
   ],
   "source": [
    "n, bins, patches = plt.hist(model.shared_variables[0].get_value(), 50, normed=1, facecolor='g', alpha=0.75)\n",
    "\n",
    "\n",
    "plt.xlabel('Smarts')\n",
    "plt.ylabel('Probability')\n",
    "plt.title('Histogram of IQ')\n",
    "# plt.text(60, .025, r'$\\mu=100,\\ \\sigma=15$')\n",
    "# plt.axis([40, 160, 0, 0.03])\n",
    "plt.grid(True)\n",
    "plt.show()"
   ]
  }
 ],
 "metadata": {
  "kernelspec": {
   "display_name": "IFT6266 (Python 2.7)",
   "language": "python",
   "name": "ift6266"
  },
  "language_info": {
   "codemirror_mode": {
    "name": "ipython",
    "version": 2
   },
   "file_extension": ".py",
   "mimetype": "text/x-python",
   "name": "python",
   "nbconvert_exporter": "python",
   "pygments_lexer": "ipython2",
   "version": "2.7.12"
  }
 },
 "nbformat": 4,
 "nbformat_minor": 0
}
